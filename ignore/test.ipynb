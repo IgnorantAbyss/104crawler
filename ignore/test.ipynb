{
 "cells": [
  {
   "cell_type": "code",
   "execution_count": 57,
   "metadata": {},
   "outputs": [],
   "source": [
    "from GetJobList import get_job_list"
   ]
  },
  {
   "cell_type": "code",
   "execution_count": 58,
   "metadata": {},
   "outputs": [],
   "source": [
    "from selenium import webdriver\n",
    "\n",
    "driver = webdriver.Chrome()  # 根據您的瀏覽器選擇WebDriver\n",
    "url = 'https://www.104.com.tw/jobs/search/?jobsource=index_s&keyword=AI&mode=s&page=1'\n",
    "job_list = get_job_list(driver, url, pages=2)\n",
    "driver.quit()  # 關閉WebDriver"
   ]
  },
  {
   "cell_type": "code",
   "execution_count": 59,
   "metadata": {},
   "outputs": [
    {
     "data": {
      "text/plain": [
       "['https://www.104.com.tw/job/84845?jobsource=index_s',\n",
       " 'https://www.104.com.tw/job/89t55?jobsource=index_s',\n",
       " 'https://www.104.com.tw/job/7zfa4?jobsource=index_s',\n",
       " 'https://www.104.com.tw/job/7zc4w?jobsource=index_s',\n",
       " 'https://www.104.com.tw/job/85xpi?jobsource=index_s',\n",
       " 'https://www.104.com.tw/job/7wliw?jobsource=index_s',\n",
       " 'https://www.104.com.tw/job/896uy?jobsource=index_s',\n",
       " 'https://www.104.com.tw/job/83ctt?jobsource=index_s',\n",
       " 'https://www.104.com.tw/job/8adei?jobsource=index_s',\n",
       " 'https://www.104.com.tw/job/89r56?jobsource=index_s',\n",
       " 'https://www.104.com.tw/job/8ael7?jobsource=index_s',\n",
       " 'https://www.104.com.tw/job/82c8f?jobsource=index_s',\n",
       " 'https://www.104.com.tw/job/7zdbr?jobsource=index_s',\n",
       " 'https://www.104.com.tw/job/88ifz?jobsource=index_s',\n",
       " 'https://www.104.com.tw/job/879ec?jobsource=index_s',\n",
       " 'https://www.104.com.tw/job/89136?jobsource=index_s',\n",
       " 'https://www.104.com.tw/job/7ppks?jobsource=index_s',\n",
       " 'https://www.104.com.tw/job/898r3?jobsource=index_s',\n",
       " 'https://www.104.com.tw/job/885tp?jobsource=index_s',\n",
       " 'https://www.104.com.tw/job/82koq?jobsource=index_s',\n",
       " 'https://www.104.com.tw/job/88g6k?jobsource=index_s',\n",
       " 'https://www.104.com.tw/job/89p62?jobsource=index_s',\n",
       " 'https://www.104.com.tw/job/6t9w6?jobsource=index_s',\n",
       " 'https://www.104.com.tw/job/8adgz?jobsource=index_s',\n",
       " 'https://www.104.com.tw/job/86t0z?jobsource=index_s',\n",
       " 'https://www.104.com.tw/job/7v0o3?jobsource=index_s',\n",
       " 'https://www.104.com.tw/job/7kp3p?jobsource=index_s',\n",
       " 'https://www.104.com.tw/job/7sms8?jobsource=index_s',\n",
       " 'https://www.104.com.tw/job/87pvw?jobsource=index_s',\n",
       " 'https://www.104.com.tw/job/7t50v?jobsource=index_s',\n",
       " 'https://www.104.com.tw/job/895rp?jobsource=index_s',\n",
       " 'https://www.104.com.tw/job/7shzu?jobsource=index_s',\n",
       " 'https://www.104.com.tw/job/6xuzb?jobsource=index_s',\n",
       " 'https://www.104.com.tw/job/69q71?jobsource=index_s',\n",
       " 'https://www.104.com.tw/job/88zgd?jobsource=index_s',\n",
       " 'https://www.104.com.tw/job/7ik18?jobsource=index_s',\n",
       " 'https://www.104.com.tw/job/3mi42?jobsource=index_s',\n",
       " 'https://www.104.com.tw/job/83004?jobsource=index_s',\n",
       " 'https://www.104.com.tw/job/884ed?jobsource=index_s',\n",
       " 'https://www.104.com.tw/job/8811m?jobsource=index_s',\n",
       " 'https://www.104.com.tw/job/85fqb?jobsource=index_s',\n",
       " 'https://www.104.com.tw/job/883ip?jobsource=index_s',\n",
       " 'https://www.104.com.tw/job/8a6x4?jobsource=index_s',\n",
       " 'https://www.104.com.tw/job/8ab5o?jobsource=index_s',\n",
       " 'https://www.104.com.tw/job/89dlc?jobsource=index_s',\n",
       " 'https://www.104.com.tw/job/83yx7?jobsource=index_s',\n",
       " 'https://www.104.com.tw/job/83uwl?jobsource=index_s',\n",
       " 'https://www.104.com.tw/job/88pt6?jobsource=index_s',\n",
       " 'https://www.104.com.tw/job/8a1gb?jobsource=index_s',\n",
       " 'https://www.104.com.tw/job/6akif?jobsource=index_s',\n",
       " 'https://www.104.com.tw/job/7ewrk?jobsource=index_s',\n",
       " 'https://www.104.com.tw/job/88y6m?jobsource=index_s',\n",
       " 'https://www.104.com.tw/job/88e7t?jobsource=index_s',\n",
       " 'https://www.104.com.tw/job/89a3r?jobsource=index_s',\n",
       " 'https://www.104.com.tw/job/89zay?jobsource=index_s',\n",
       " 'https://www.104.com.tw/job/879f3?jobsource=index_s',\n",
       " 'https://www.104.com.tw/job/8a2em?jobsource=index_s',\n",
       " 'https://www.104.com.tw/job/89pyw?jobsource=index_s',\n",
       " 'https://www.104.com.tw/job/831e3?jobsource=index_s',\n",
       " 'https://www.104.com.tw/job/897xh?jobsource=index_s']"
      ]
     },
     "execution_count": 59,
     "metadata": {},
     "output_type": "execute_result"
    }
   ],
   "source": [
    "links = [job[\"職缺URL\"] for job in job_list]\n",
    "links"
   ]
  },
  {
   "cell_type": "code",
   "execution_count": 62,
   "metadata": {},
   "outputs": [],
   "source": [
    "from selenium.webdriver.common.by import By\n",
    "from selenium.webdriver.support.ui import WebDriverWait\n",
    "\n",
    "driver = webdriver.Chrome()\n",
    "driver.get(links[10])\n",
    "\n",
    "wait = WebDriverWait(driver, 5)\n",
    "\n",
    "# 取得公司名稱\n",
    "company_name = driver.find_element(By.CSS_SELECTOR, \"div.mt-3 > a.btn-link.t3\").text\n",
    "\n",
    "# 取得職位類別\n",
    "job_titles_elements = driver.find_elements(By.CSS_SELECTOR, \"div.category-item u\")\n",
    "job_titles = [element.text for element in job_titles_elements]\n",
    "\n",
    "# 取得薪資資訊\n",
    "# 定位包含\"工作待遇\"標題的h3元素，接著根據這個定位來找到相關的薪資資訊\n",
    "salary_blocks = driver.find_elements(By.XPATH, \"//h3[contains(text(), '工作待遇')]/ancestor::div[contains(@class, 'list-row')]/div[contains(@class, 'list-row__data')]//div[@class='t3 mb-0']/p\")\n",
    "# //h3[contains(text(), '工作待遇')]：選擇頁面上所有包含文字\"工作待遇\"的<h3>元素。\n",
    "# /ancestor::div[contains(@class, 'list-row')]：向上查找這些<h3>元素最近的一個祖先<div>元素，該<div>元素的class屬性中包含\"list-row\"。\n",
    "# /div[contains(@class, 'list-row__data')]：在找到的<div>元素中，查找其下所有class屬性中包含\"list-row__data\"的子<div>元素。\n",
    "# //div[@class='t3 mb-0']/p：最後，找到這些<div>元素下所有class屬性為\"t3 mb-0\"的<div>元素中的<p>標籤。\n",
    "salary_info = []  # 用於儲存提取的薪資資訊\n",
    "for element in salary_blocks:\n",
    "    salary_info.append(element.text)\n",
    "\n",
    "# 取得公司地址\n",
    "# 定位包含具體地址信息的<span>標籤\n",
    "address_span = driver.find_element(By.CSS_SELECTOR, \"div.job-address > span\")\n",
    "address_text = address_span.text\n",
    "# 初始化附加信息文本\n",
    "additional_info_text = \"\"\n",
    "# 使用find_elements檢查是否存在包含附加地址信息的<span>標籤（例如距離捷運站信息）\n",
    "additional_info_spans = driver.find_elements(By.CSS_SELECTOR, \"div.job-address > span.t4\")\n",
    "if additional_info_spans:\n",
    "    # 如果列表不為空，則表示找到了元素\n",
    "    additional_info_text = additional_info_spans[0].text\n",
    "# 合併地址信息和附加信息\n",
    "work_address = f\"{address_text} {additional_info_text}\".strip()\n",
    "\n",
    "# 取得工作內容\n",
    "job_content = driver.find_element(By.CSS_SELECTOR, 'div.job-description > p.job-description__content').text\n",
    "\n",
    "# 取得語文條件\n",
    "# 定位文本內容包含\"語文條件\"的<h3>元素，..向上找到父元素後選擇<div>類型的同級元素，//p選擇所有<p>子元素\n",
    "language_requirements_elements = driver.find_elements(By.XPATH, \"//h3[contains(text(), '語文條件')]/../following-sibling::div//p\")\n",
    "\n",
    "if len(language_requirements_elements) > 0:\n",
    "    language_requirements = [element.text for element in language_requirements_elements]\n",
    "\n",
    "# 取得擅長工具條件\n",
    "# 定位文本內容包含\"擅長工具\"的<h3>元素，..向上找到父元素後選擇<div>類型的同級元素，//u選擇所有<u>子元素\n",
    "tools_requirements_elements = driver.find_elements(By.XPATH, \"//h3[contains(text(), '擅長工具')]/../following-sibling::div//u\")\n",
    "\n",
    "if len(tools_requirements_elements) > 0:\n",
    "    tools_requirements = [element.text for element in tools_requirements_elements]\n",
    "else:\n",
    "    tools_requirements = driver.find_element(By.XPATH, \"//h3[contains(text(), '擅長工具')]/../following-sibling::div\").text\n",
    "\n",
    "# 取得工作技能條件\n",
    "# 定位文本內容包含\"工作技能\"的<h3>元素，..向上找到父元素後選擇<div>類型的同級元素，//u選擇所有<u>子元素\n",
    "skill_requirements_elements = driver.find_elements(By.XPATH, \"//h3[contains(text(), '工作技能')]/../following-sibling::div//u\")\n",
    "\n",
    "if len(skill_requirements_elements) > 0:\n",
    "    skill_requirements = [element.text for element in skill_requirements_elements]\n",
    "    print(skill_requirements)\n",
    "\n",
    "else: # 找到包含\"工作技能\"的<h3>元素後，ancestor向上找到父輩元素中class屬性包含list-row的<div>元素，然後向下尋找包含list-row__data的<div>元素，最後定位到div內的文本\n",
    "    skill_requirements = driver.find_element(By.XPATH, \"\"\"//h3[contains(text(), '工作技能')]\n",
    "                                             /ancestor::div[contains(@class, 'list-row')]//\n",
    "                                             div[contains(@class, 'list-row__data')]/div\"\"\").text\n",
    "    \n",
    "# 取得其他條件\n",
    "# 定位文本內容包含\"其他條件\"的<h3>元素，..向上找到父元素後選擇<div>類型的同級元素，//u選擇所有<p>子元素\n",
    "other_requirements_elements = driver.find_elements(By.XPATH, \"//h3[contains(text(), '其他條件')]/../following-sibling::div//p\")\n",
    "if len(other_requirements_elements) > 0:\n",
    "    other_requirements = \"\\n\".join([element.text for element in other_requirements_elements])\n",
    "else:\n",
    "    other_requirements = \"沒有找到相關的其他條件。\"\n",
    "\n",
    "driver.quit()\n"
   ]
  },
  {
   "cell_type": "code",
   "execution_count": 61,
   "metadata": {},
   "outputs": [
    {
     "ename": "NameError",
     "evalue": "name 'tools_requirements' is not defined",
     "output_type": "error",
     "traceback": [
      "\u001b[1;31m---------------------------------------------------------------------------\u001b[0m",
      "\u001b[1;31mNameError\u001b[0m                                 Traceback (most recent call last)",
      "Cell \u001b[1;32mIn[61], line 8\u001b[0m\n\u001b[0;32m      1\u001b[0m job_info \u001b[38;5;241m=\u001b[39m {\n\u001b[0;32m      2\u001b[0m     \u001b[38;5;124m\"\u001b[39m\u001b[38;5;124m公司名稱\u001b[39m\u001b[38;5;124m\"\u001b[39m : company_name,\n\u001b[0;32m      3\u001b[0m     \u001b[38;5;124m\"\u001b[39m\u001b[38;5;124m職務類別\u001b[39m\u001b[38;5;124m\"\u001b[39m : job_titles,\n\u001b[0;32m      4\u001b[0m     \u001b[38;5;124m\"\u001b[39m\u001b[38;5;124m工作待遇\u001b[39m\u001b[38;5;124m\"\u001b[39m : salary_info,\n\u001b[0;32m      5\u001b[0m     \u001b[38;5;124m\"\u001b[39m\u001b[38;5;124m上班地點\u001b[39m\u001b[38;5;124m\"\u001b[39m : work_address,\n\u001b[0;32m      6\u001b[0m     \u001b[38;5;124m\"\u001b[39m\u001b[38;5;124m工作內容\u001b[39m\u001b[38;5;124m\"\u001b[39m : job_content,\n\u001b[0;32m      7\u001b[0m     \u001b[38;5;124m\"\u001b[39m\u001b[38;5;124m語文條件\u001b[39m\u001b[38;5;124m\"\u001b[39m : language_requirements,\n\u001b[1;32m----> 8\u001b[0m     \u001b[38;5;124m\"\u001b[39m\u001b[38;5;124m擅長工具要求\u001b[39m\u001b[38;5;124m\"\u001b[39m : \u001b[43mtools_requirements\u001b[49m,\n\u001b[0;32m      9\u001b[0m     \u001b[38;5;124m\"\u001b[39m\u001b[38;5;124m工作技能\u001b[39m\u001b[38;5;124m\"\u001b[39m : skill_requirements,\n\u001b[0;32m     10\u001b[0m     \u001b[38;5;124m\"\u001b[39m\u001b[38;5;124m其他條件\u001b[39m\u001b[38;5;124m\"\u001b[39m : other_requirements\n\u001b[0;32m     11\u001b[0m     }\n\u001b[0;32m     13\u001b[0m job_info\n",
      "\u001b[1;31mNameError\u001b[0m: name 'tools_requirements' is not defined"
     ]
    }
   ],
   "source": [
    "job_info = {\n",
    "    \"公司名稱\" : company_name,\n",
    "    \"職務類別\" : job_titles,\n",
    "    \"工作待遇\" : salary_info,\n",
    "    \"上班地點\" : work_address,\n",
    "    \"工作內容\" : job_content,\n",
    "    \"語文條件\" : language_requirements,\n",
    "    \"擅長工具要求\" : tools_requirements,\n",
    "    \"工作技能\" : skill_requirements,\n",
    "    \"其他條件\" : other_requirements\n",
    "    }\n",
    "\n",
    "job_info"
   ]
  },
  {
   "cell_type": "code",
   "execution_count": 64,
   "metadata": {},
   "outputs": [
    {
     "name": "stdout",
     "output_type": "stream",
     "text": [
      "不拘\n"
     ]
    }
   ],
   "source": [
    "from selenium import webdriver\n",
    "from selenium.webdriver.common.by import By\n",
    "\n",
    "driver = webdriver.Chrome()\n",
    "driver.get(\"https://www.104.com.tw/job/8ael7?jobsource=index_s\")\n",
    "\n",
    "# 定位文本內容包含\"其他條件\"的<h3>元素，..向上找到父元素後選擇<div>類型的同級元素，//u選擇所有<p>子元素\n",
    "tools_requirements_elements = driver.find_elements(By.XPATH, \"//h3[contains(text(), '擅長工具')]/../following-sibling::div//u\")\n",
    "\n",
    "if len(tools_requirements_elements) > 0:\n",
    "    tools_requirements = [element.text for element in tools_requirements_elements]\n",
    "else:\n",
    "    tools_requirements = driver.find_element(By.XPATH, \"//h3[contains(text(), '擅長工具')]/../following-sibling::div\").text\n",
    "\n",
    "print(tools_requirements)\n",
    "driver.quit()\n",
    "\n"
   ]
  }
 ],
 "metadata": {
  "kernelspec": {
   "display_name": "104ETL-M9pNpJH4",
   "language": "python",
   "name": "python3"
  },
  "language_info": {
   "codemirror_mode": {
    "name": "ipython",
    "version": 3
   },
   "file_extension": ".py",
   "mimetype": "text/x-python",
   "name": "python",
   "nbconvert_exporter": "python",
   "pygments_lexer": "ipython3",
   "version": "3.11.4"
  }
 },
 "nbformat": 4,
 "nbformat_minor": 2
}
