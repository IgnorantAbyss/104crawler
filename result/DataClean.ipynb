{
 "cells": [
  {
   "cell_type": "code",
   "execution_count": 8,
   "metadata": {},
   "outputs": [],
   "source": [
    "# 工作待遇結構化\n",
    "import os\n",
    "import pandas as pd\n",
    "import re\n",
    "\n",
    "def sal_average(input_string):\n",
    "    # 使用正則表達式提取所有包含逗號的數字部分\n",
    "    raw_numbers = re.findall(r'\\d{1,3}(?:,\\d{3})*', input_string)\n",
    "    \n",
    "    # 去除逗號並將數字字串轉換為整數\n",
    "    numbers = [int(num.replace(',', '')) for num in raw_numbers]\n",
    "    \n",
    "    # print(numbers)  # Debugging print\n",
    "    \n",
    "    # 計算平均值\n",
    "    if numbers:\n",
    "        average = sum(numbers) / len(numbers)\n",
    "    else:\n",
    "        average = 0\n",
    "    \n",
    "    return average\n",
    "\n",
    "def salary(sal):\n",
    "    if \"待遇面議\" in sal:\n",
    "        sal = 40000\n",
    "    elif \"月薪\" in sal:\n",
    "        sal = int(sal_average(sal))\n",
    "    elif \"年薪\" in sal:\n",
    "        sal = int(sal_average(sal)/12)\n",
    "    return sal\n",
    "\n",
    "folder_path = r'E:\\code\\104ETL'\n",
    "files = os.listdir(folder_path)\n",
    "\n",
    "csv_files = [file for file in files if file.startswith('104')]\n",
    "for csv_file in csv_files:\n",
    "    file_path = os.path.join(folder_path, csv_file)\n",
    "\n",
    "    dataframe = pd.read_csv(file_path)\n",
    "    dataframe[\"工作待遇\"] = dataframe[\"工作待遇\"].apply(salary)\n",
    "    # 將非數字的值轉換為 NaN\n",
    "    dataframe['工作待遇'] = pd.to_numeric(dataframe['工作待遇'], errors='coerce')\n",
    "    # 將空值資料列刪除\n",
    "    dataframe = dataframe.dropna(subset=[\"工作待遇\"])\n",
    "\n",
    "    output_file = f'{csv_file}'\n",
    "    dataframe.to_csv(output_file, index=False, encoding='utf-8-sig')\n",
    "\n",
    "    "
   ]
  },
  {
   "cell_type": "code",
   "execution_count": 40,
   "metadata": {},
   "outputs": [],
   "source": [
    "# 語文條件結構化\n",
    "\n",
    "def parse_language_skills_list(input_string):\n",
    "    if input_string == \"不拘\":\n",
    "        return input_string\n",
    "    else:\n",
    "        pattern = re.compile(r'(\\w+) -- 聽 /(\\w+)、說 /(\\w+)、讀 /(\\w+)、寫 /(\\w+)')\n",
    "        matches = pattern.findall(input_string)\n",
    "        \n",
    "        data = []\n",
    "        for match in matches:\n",
    "            language, listen, speak, read, write = match\n",
    "            data.append({\n",
    "                'Language': language,\n",
    "                'Listen': listen,\n",
    "                'Speak': speak,\n",
    "                'Read': read,\n",
    "                'Write': write\n",
    "            })\n",
    "        \n",
    "        return data\n",
    "\n",
    "folder_path = r'E:\\code\\104ETL'\n",
    "files = os.listdir(folder_path)\n",
    "\n",
    "csv_files = [file for file in files if file.startswith('104')]\n",
    "\n",
    "for csv_file in csv_files:\n",
    "    file_path = os.path.join(folder_path, csv_file)\n",
    "    dataframe = pd.read_csv(file_path)\n",
    "\n",
    "    dataframe['語文條件'] = dataframe['語文條件'].apply(parse_language_skills_list)\n",
    "\n",
    "    output_file = f'{csv_file}'\n",
    "    dataframe.to_csv(output_file, index=False, encoding='utf-8-sig')\n"
   ]
  },
  {
   "cell_type": "code",
   "execution_count": 42,
   "metadata": {},
   "outputs": [
    {
     "name": "stdout",
     "output_type": "stream",
     "text": [
      "807\n"
     ]
    }
   ],
   "source": [
    "dataframe = pd.read_csv(\"104台北市 數據工程師.csv\")\n",
    "\n",
    "print(dataframe.shape[0])"
   ]
  }
 ],
 "metadata": {
  "kernelspec": {
   "display_name": "104ETL-M9pNpJH4",
   "language": "python",
   "name": "python3"
  },
  "language_info": {
   "codemirror_mode": {
    "name": "ipython",
    "version": 3
   },
   "file_extension": ".py",
   "mimetype": "text/x-python",
   "name": "python",
   "nbconvert_exporter": "python",
   "pygments_lexer": "ipython3",
   "version": "3.11.4"
  }
 },
 "nbformat": 4,
 "nbformat_minor": 2
}
